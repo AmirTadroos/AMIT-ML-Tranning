{
 "cells": [
  {
   "cell_type": "markdown",
   "metadata": {},
   "source": [
    "# Assignment 3"
   ]
  },
  {
   "cell_type": "markdown",
   "metadata": {},
   "source": [
    "### Write a function to count the number 4 in a given list."
   ]
  },
  {
   "cell_type": "code",
   "execution_count": 11,
   "metadata": {},
   "outputs": [
    {
     "data": {
      "text/plain": [
       "4"
      ]
     },
     "execution_count": 11,
     "metadata": {},
     "output_type": "execute_result"
    }
   ],
   "source": [
    "x=[12,4,5,7,8,9,5,4,1,2,3,6,8,7,4,5,5,4]\n",
    "n=4\n",
    "def count(a,n):\n",
    "   return a.count(n)\n",
    "    \n",
    "count(x,n)\n",
    "    "
   ]
  },
  {
   "cell_type": "markdown",
   "metadata": {},
   "source": [
    "### write a  function to check whether a number is divisible by another number."
   ]
  },
  {
   "cell_type": "code",
   "execution_count": 16,
   "metadata": {},
   "outputs": [
    {
     "name": "stdout",
     "output_type": "stream",
     "text": [
      "enter first no: 4\n",
      "enter 2nd no: 4\n",
      "3azma\n"
     ]
    }
   ],
   "source": [
    "x= int(input(\"enter first no: \"))\n",
    "y= int(input(\"enter 2nd no: \"))\n",
    "\n",
    "def comparator(a,b):\n",
    "    if x/y ==1:\n",
    "        print(\"3azma\")\n",
    "        \n",
    "    else:\n",
    "        print(\"m4 3azma\")\n",
    "\n",
    "comparator(x,y)        "
   ]
  },
  {
   "cell_type": "markdown",
   "metadata": {},
   "source": [
    "### write a function to find the maximum and minimum numbers from a sequence of numbers."
   ]
  },
  {
   "cell_type": "code",
   "execution_count": 46,
   "metadata": {},
   "outputs": [
    {
     "name": "stdout",
     "output_type": "stream",
     "text": [
      "min =  2\n",
      "max =  99\n"
     ]
    }
   ],
   "source": [
    "def func():\n",
    "    x=[2,3,6,99,8,54,2,2,5,95,6,8,7,45,2,66,99,88,4,5,12,5,8,7,4,5,9,6,50,5,8,8,9,6,5,87,4,35,76]\n",
    "    a,b=0,99999\n",
    "    for no in x:\n",
    "        if no <b:\n",
    "            b=no\n",
    "\n",
    "    for noo in x:\n",
    "        if noo >a:\n",
    "            a=noo\n",
    "\n",
    "    print(\"min = \" ,b)\n",
    "    print(\"max = \" ,a)\n",
    "    \n",
    "func()\n"
   ]
  },
  {
   "cell_type": "markdown",
   "metadata": {},
   "source": [
    "### Write a Python function that takes two lists and returns True if they have at least one common member."
   ]
  },
  {
   "cell_type": "code",
   "execution_count": 58,
   "metadata": {},
   "outputs": [
    {
     "data": {
      "text/plain": [
       "True"
      ]
     },
     "execution_count": 58,
     "metadata": {},
     "output_type": "execute_result"
    }
   ],
   "source": [
    "q=[2,4,8,6,9,8,7,5,1]\n",
    "w=[10,11,9,8,7,4,5,1]\n",
    "\n",
    "def functionzz (x,y):\n",
    "    for c1 in x:\n",
    "        for c2 in y:\n",
    "            if c1==c2:\n",
    "               return True\n",
    "\n",
    "        \n",
    "\n",
    "functionzz(q,w)\n"
   ]
  },
  {
   "cell_type": "markdown",
   "metadata": {},
   "source": [
    "### Write a Python function to calculate the factorial of a number (a non-negative integer). The function accepts the number from the user"
   ]
  },
  {
   "cell_type": "code",
   "execution_count": 96,
   "metadata": {},
   "outputs": [
    {
     "name": "stdout",
     "output_type": "stream",
     "text": [
      "enter the no.2\n",
      "2\n"
     ]
    }
   ],
   "source": [
    "inp1 = int(input('enter the no.'))\n",
    "while inp1 < 0:\n",
    "    print ('plz enter +ve value')\n",
    "    inp1 = int(input('enter the no.'))\n",
    "\n",
    "def fact(y):\n",
    "    factorial=1\n",
    "    for x in range(y,0,-1):\n",
    "        factorial =factorial*x\n",
    "        \n",
    "    print(factorial) \n",
    "    \n",
    "    \n",
    "fact(inp1)"
   ]
  },
  {
   "cell_type": "markdown",
   "metadata": {},
   "source": [
    "### Write a Python function to check whether a number is in a given range.\n",
    "\n",
    "### The range is from 3 to 11\n"
   ]
  },
  {
   "cell_type": "code",
   "execution_count": 106,
   "metadata": {},
   "outputs": [
    {
     "data": {
      "text/plain": [
       "True"
      ]
     },
     "execution_count": 106,
     "metadata": {},
     "output_type": "execute_result"
    }
   ],
   "source": [
    "num=5\n",
    "def check(n):\n",
    "    for x in range(3,12):\n",
    "        if x==n:\n",
    "            return True\n",
    "\n",
    "    \n",
    "check(num)"
   ]
  },
  {
   "cell_type": "markdown",
   "metadata": {},
   "source": [
    "### Write a  program to create the multiplication table (from 1 to 10) of a number."
   ]
  },
  {
   "cell_type": "code",
   "execution_count": 109,
   "metadata": {},
   "outputs": [
    {
     "name": "stdout",
     "output_type": "stream",
     "text": [
      "1 x 5 = 5\n",
      "2 x 5 = 10\n",
      "3 x 5 = 15\n",
      "4 x 5 = 20\n",
      "5 x 5 = 25\n",
      "6 x 5 = 30\n",
      "7 x 5 = 35\n",
      "8 x 5 = 40\n",
      "9 x 5 = 45\n",
      "10 x 5 = 50\n"
     ]
    }
   ],
   "source": [
    "num=5\n",
    "def multiplication(n):\n",
    "    for x in range(1,11):\n",
    "        t=x*n\n",
    "        print(x ,\"x\",n ,\"=\", t)\n",
    "\n",
    "multiplication(num)"
   ]
  },
  {
   "cell_type": "markdown",
   "metadata": {},
   "source": [
    "#### LESSER OF TWO EVENS: Write a function that returns the lesser of two given numbers *if* both numbers are even, but returns the greater if one or both numbers are odd\n",
    "    lesser_of_two_evens(2,4) --> 2\n",
    "    lesser_of_two_evens(2,5) --> 5"
   ]
  },
  {
   "cell_type": "code",
   "execution_count": 127,
   "metadata": {},
   "outputs": [
    {
     "name": "stdout",
     "output_type": "stream",
     "text": [
      "4\n",
      "5\n"
     ]
    }
   ],
   "source": [
    "def lesser_of_two_evens(a,b):\n",
    "    if (a % 2 and b % 2) != 0:\n",
    "        if b > a:\n",
    "            print(b)\n",
    "        if a > b:\n",
    "            print(a)    \n",
    "    elif (a % 2 and b % 2) == 0:\n",
    "        if a < b:\n",
    "            print(b)\n",
    "        else:\n",
    "            print(a)    \n",
    "            \n",
    "lesser_of_two_evens(2,4)\n",
    "lesser_of_two_evens(2,5)"
   ]
  },
  {
   "cell_type": "markdown",
   "metadata": {},
   "source": [
    "### Write a  program to insert user data to file"
   ]
  },
  {
   "cell_type": "code",
   "execution_count": 29,
   "metadata": {},
   "outputs": [
    {
     "name": "stdout",
     "output_type": "stream",
     "text": [
      "enter your first name akl\n",
      "enter your last name df\n",
      "enter your sex male\n",
      "enter your id 9876\n",
      "error id should be =  3\n",
      "enter your id 123\n",
      "amir \ttad\tmale\t123\n",
      "ali\tahmed\tmale\t125\n",
      "sara\tali\tfemale\t987\n",
      "akl\tdf\tmale\t123\n",
      "\n"
     ]
    }
   ],
   "source": [
    "def userStore ():\n",
    "    firstname=input(\"enter your first name \")\n",
    "    lastname=input(\"enter your last name \")\n",
    "    gend=input(\"enter your sex \")\n",
    "    ident=input(\"enter your id \")\n",
    "    while len(ident) != 3:\n",
    "            print('error id should be =  3')\n",
    "            ident=input(\"enter your id \")\n",
    "   \n",
    "    f=open(\"userdata.txt\",'a')\n",
    "    f.write(firstname)\n",
    "    f.write(\"\\t\")\n",
    "    f.write(lastname)\n",
    "    f.write(\"\\t\")    \n",
    "    f.write(gend)\n",
    "    f.write(\"\\t\")       \n",
    "    f.write(ident)\n",
    "    f.write(\"\\n\")       \n",
    "    f.close()\n",
    "userStore()\n",
    "\n",
    "\n",
    "f = open('userdata.txt','r')\n",
    "print(f.read())\n",
    "f.close()"
   ]
  }
 ],
 "metadata": {
  "kernelspec": {
   "display_name": "Python 3 (ipykernel)",
   "language": "python",
   "name": "python3"
  },
  "language_info": {
   "codemirror_mode": {
    "name": "ipython",
    "version": 3
   },
   "file_extension": ".py",
   "mimetype": "text/x-python",
   "name": "python",
   "nbconvert_exporter": "python",
   "pygments_lexer": "ipython3",
   "version": "3.9.12"
  }
 },
 "nbformat": 4,
 "nbformat_minor": 2
}
