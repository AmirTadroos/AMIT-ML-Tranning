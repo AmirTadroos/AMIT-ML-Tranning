{
 "cells": [
  {
   "cell_type": "markdown",
   "id": "62631ac7",
   "metadata": {},
   "source": [
    "Dunder are the methods having two prefix and suffix underscores in the method name These are commonly used for operator overloading. Few examples for magic methods are: __init__, __add__, __len__, __repr__ etc.\n",
    "\n",
    "The __init__ method for initialization is invoked without any call, when an instance of a class is create\n",
    "\n",
    "Here’s a simple implementation :"
   ]
  },
  {
   "cell_type": "code",
   "execution_count": 7,
   "id": "88f12723",
   "metadata": {},
   "outputs": [],
   "source": [
    "class car():\n",
    "    def __init__(self,speed,color):\n",
    "        self.color = color\n",
    "        self.speed = speed\n",
    "    def what_color(self):\n",
    "        print(\"my color is \" +self.color)\n",
    "        \n",
    "    def drive(self):\n",
    "        print(\"driving with speed\"+ str(self.speed))\n",
    "    # any concatination should be the same data type"
   ]
  },
  {
   "cell_type": "code",
   "execution_count": null,
   "id": "dc4eb617",
   "metadata": {},
   "outputs": [],
   "source": [
    "kia =car(220 ,\"red\")\n",
    "kia.drive()\n",
    "kia. what_color()\n",
    "kia.color"
   ]
  },
  {
   "cell_type": "code",
   "execution_count": null,
   "id": "cdb17563",
   "metadata": {},
   "outputs": [],
   "source": []
  }
 ],
 "metadata": {
  "kernelspec": {
   "display_name": "Python 3 (ipykernel)",
   "language": "python",
   "name": "python3"
  },
  "language_info": {
   "codemirror_mode": {
    "name": "ipython",
    "version": 3
   },
   "file_extension": ".py",
   "mimetype": "text/x-python",
   "name": "python",
   "nbconvert_exporter": "python",
   "pygments_lexer": "ipython3",
   "version": "3.9.12"
  }
 },
 "nbformat": 4,
 "nbformat_minor": 5
}
