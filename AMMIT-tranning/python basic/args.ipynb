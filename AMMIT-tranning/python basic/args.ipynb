{
 "cells": [
  {
   "cell_type": "markdown",
   "id": "e961ef42",
   "metadata": {},
   "source": [
    "*args\n",
    "\n",
    "\n",
    "The special syntax *args in function definitions in python is used to pass a variable number of arguments to a function. It is used to pass a non-key worded, variable-length argument list. \n",
    "\n",
    "The syntax is to use the symbol * to take in a variable number of arguments; by convention, it is often used with the word args.\n",
    "What *args allows you to do is take in more arguments than the number of formal arguments that you previously defined. "
   ]
  },
  {
   "cell_type": "code",
   "execution_count": 3,
   "id": "9af3d40b",
   "metadata": {},
   "outputs": [
    {
     "name": "stdout",
     "output_type": "stream",
     "text": [
      "Hello\n",
      "Welcome\n",
      "to\n",
      "AMIT\n"
     ]
    }
   ],
   "source": [
    "\n",
    "def myFun(*argv):\n",
    "    for arg in argv:\n",
    "        print(arg)\n",
    "  \n",
    "  \n",
    "myFun('Hello', 'Welcome', 'to', 'AMIT')"
   ]
  },
  {
   "cell_type": "markdown",
   "id": "e6b934c5",
   "metadata": {},
   "source": [
    "**kwargs\n",
    "\n",
    "\n",
    "The special syntax **kwargs in function definitions in python is used to pass a keyworded, variable-length argument list. We use the name kwargs with the double star. The reason is that the double star allows us to pass through keyword arguments (and any number of them).\n",
    "\n",
    "A keyword argument is where you provide a name to the variable as you pass it into the function.\n",
    "One can think of the kwargs as being a dictionary that maps each keyword to the value that we pass alongside it. That is why when we iterate over the kwargs there doesn’t seem to be any order in which they were printed out."
   ]
  },
  {
   "cell_type": "code",
   "execution_count": 8,
   "id": "c799fcbc",
   "metadata": {},
   "outputs": [
    {
     "name": "stdout",
     "output_type": "stream",
     "text": [
      "first == Amit\n",
      "mid == for\n",
      "last == A.I\n"
     ]
    }
   ],
   "source": [
    "\n",
    "def myFun(**kwargs):\n",
    "    for key, value in kwargs.items():\n",
    "        print(\"%s == %s\" % (key, value))\n",
    "  \n",
    "  \n",
    "# Driver code\n",
    "myFun(first='Amit', mid='for', last='A.I')"
   ]
  },
  {
   "cell_type": "code",
   "execution_count": null,
   "id": "a998899d",
   "metadata": {},
   "outputs": [],
   "source": []
  },
  {
   "cell_type": "code",
   "execution_count": 10,
   "id": "9e53af1c",
   "metadata": {},
   "outputs": [
    {
     "name": "stdout",
     "output_type": "stream",
     "text": [
      "arg1: Amit\n",
      "arg2: for\n",
      "arg3: A.I\n",
      "arg1: Amit\n",
      "arg2: for\n",
      "arg3: A.I\n"
     ]
    }
   ],
   "source": [
    "\n",
    "def myFun(arg1, arg2, arg3):\n",
    "    print(\"arg1:\", arg1)\n",
    "    print(\"arg2:\", arg2)\n",
    "    print(\"arg3:\", arg3)\n",
    "  \n",
    "  \n",
    "# Now we can use *args or **kwargs to\n",
    "# pass arguments to this function :\n",
    "args = (\"Amit\", \"for\", \"A.I\")\n",
    "myFun(*args)\n",
    "  \n",
    "kwargs = {\"arg1\": \"Amit\", \"arg2\": \"for\", \"arg3\": \"A.I\"}\n",
    "myFun(**kwargs)"
   ]
  },
  {
   "cell_type": "code",
   "execution_count": null,
   "id": "7182eb2b",
   "metadata": {},
   "outputs": [],
   "source": []
  }
 ],
 "metadata": {
  "kernelspec": {
   "display_name": "Python 3 (ipykernel)",
   "language": "python",
   "name": "python3"
  },
  "language_info": {
   "codemirror_mode": {
    "name": "ipython",
    "version": 3
   },
   "file_extension": ".py",
   "mimetype": "text/x-python",
   "name": "python",
   "nbconvert_exporter": "python",
   "pygments_lexer": "ipython3",
   "version": "3.9.12"
  }
 },
 "nbformat": 4,
 "nbformat_minor": 5
}
